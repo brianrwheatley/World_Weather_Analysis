{
 "cells": [
  {
   "cell_type": "code",
   "execution_count": 5,
   "id": "981e7fdc",
   "metadata": {},
   "outputs": [],
   "source": [
    "import random\n",
    "import numpy as np"
   ]
  },
  {
   "cell_type": "code",
   "execution_count": 2,
   "id": "66cb2fcb",
   "metadata": {},
   "outputs": [
    {
     "data": {
      "text/plain": [
       "2.89"
      ]
     },
     "execution_count": 2,
     "metadata": {},
     "output_type": "execute_result"
    }
   ],
   "source": [
    "round(random.uniform(-10,10),2)"
   ]
  },
  {
   "cell_type": "code",
   "execution_count": 3,
   "id": "9773c1ab",
   "metadata": {},
   "outputs": [],
   "source": [
    "x = 1\n",
    "latitudes = []\n",
    "while x < 11:\n",
    "    random_lat = random.randint(-90, 89) + random.random()\n",
    "    latitudes.append(random_lat)\n",
    "    x += 1"
   ]
  },
  {
   "cell_type": "code",
   "execution_count": 4,
   "id": "7044e29b",
   "metadata": {},
   "outputs": [
    {
     "data": {
      "text/plain": [
       "[-19.67446522594618,\n",
       " 2.6047924334632846,\n",
       " -67.53052919597121,\n",
       " -4.449530663048657,\n",
       " 45.11974628180086,\n",
       " 17.537199791892174,\n",
       " -41.911919404111146,\n",
       " -13.754174059160707,\n",
       " 31.532687623416034,\n",
       " 41.40420486074292]"
      ]
     },
     "execution_count": 4,
     "metadata": {},
     "output_type": "execute_result"
    }
   ],
   "source": [
    "latitudes"
   ]
  },
  {
   "cell_type": "code",
   "execution_count": 7,
   "id": "4d007f67",
   "metadata": {},
   "outputs": [
    {
     "data": {
      "text/plain": [
       "array([-38.46353742, -18.24927809, -88.13491342,  10.64726383,\n",
       "       -44.4820279 ,  84.1496618 , -66.0388299 ,  14.86776003,\n",
       "       -79.77463704,  41.9835191 , -23.52021546,  -0.81406784,\n",
       "        44.25176218,  38.2461531 , -39.3529435 ,  80.28089528,\n",
       "        -0.18402552,  26.34796904, -30.2682735 ,  65.76672397,\n",
       "        75.13650768, -36.32479554,   1.09250497,  72.06584211,\n",
       "        31.56873275, -75.49234125, -45.65564375,  52.63485701,\n",
       "       -69.81640086, -38.2097208 , -28.0277912 ,  33.11076052,\n",
       "        -2.72960693,  66.24177907,  45.39339392, -62.41264561,\n",
       "       -63.62238617, -62.68665667,  78.07721037, -77.85687742,\n",
       "        -3.89346918, -19.01154844, -83.37115476, -18.44995892,\n",
       "       -56.86340561,   2.64571738, -34.34200624, -87.17233762,\n",
       "        13.21014378,  73.91790981])"
      ]
     },
     "execution_count": 7,
     "metadata": {},
     "output_type": "execute_result"
    }
   ],
   "source": [
    "np.random.uniform(-90,90,size=50)"
   ]
  },
  {
   "cell_type": "code",
   "execution_count": 10,
   "id": "f052a3d3",
   "metadata": {},
   "outputs": [],
   "source": [
    "# Import timeit.\n",
    "import timeit"
   ]
  },
  {
   "cell_type": "code",
   "execution_count": 11,
   "id": "46050bea",
   "metadata": {},
   "outputs": [
    {
     "name": "stdout",
     "output_type": "stream",
     "text": [
      "8.41 µs ± 132 ns per loop (mean ± std. dev. of 7 runs, 100000 loops each)\n"
     ]
    }
   ],
   "source": [
    "%timeit np.random.uniform(-90.000, 90.000, size=1500)"
   ]
  },
  {
   "cell_type": "code",
   "execution_count": 12,
   "id": "2ab4479e",
   "metadata": {},
   "outputs": [
    {
     "name": "stdout",
     "output_type": "stream",
     "text": [
      "1.1 ms ± 6.85 µs per loop (mean ± std. dev. of 7 runs, 1000 loops each)\n"
     ]
    }
   ],
   "source": [
    "def latitudes(size):\n",
    "    latitudes = []\n",
    "    x = 0\n",
    "    while x < (size):\n",
    "        random_lat = random.randint(-90, 90) + random.random()\n",
    "        latitudes.append(random_lat)\n",
    "        x += 1\n",
    "    return latitudes\n",
    "# Call the function with 1500.\n",
    "%timeit latitudes(1500)"
   ]
  },
  {
   "cell_type": "code",
   "execution_count": null,
   "id": "09ab7e6a",
   "metadata": {},
   "outputs": [],
   "source": []
  }
 ],
 "metadata": {
  "kernelspec": {
   "display_name": "PythonData",
   "language": "python",
   "name": "pythondata"
  },
  "language_info": {
   "codemirror_mode": {
    "name": "ipython",
    "version": 3
   },
   "file_extension": ".py",
   "mimetype": "text/x-python",
   "name": "python",
   "nbconvert_exporter": "python",
   "pygments_lexer": "ipython3",
   "version": "3.7.11"
  }
 },
 "nbformat": 4,
 "nbformat_minor": 5
}
